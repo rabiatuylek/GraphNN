{
 "cells": [
  {
   "cell_type": "code",
   "execution_count": 1,
   "id": "56a334a5",
   "metadata": {},
   "outputs": [],
   "source": [
    "# Node Classification with DGL\n",
    "# --> node classification using GNN\n",
    "# ----> load DGL-provided dataset\n",
    "# ----> Build a GNN model with DGL-provided neural network modules\n",
    "# ----> Train and evaluate a GNN model for node classification "
   ]
  },
  {
   "cell_type": "code",
   "execution_count": 2,
   "id": "0fb1db05",
   "metadata": {},
   "outputs": [
    {
     "name": "stderr",
     "output_type": "stream",
     "text": [
      "/home/parton15/anaconda3/envs/graphNN/lib/python3.8/site-packages/tqdm/auto.py:22: TqdmWarning: IProgress not found. Please update jupyter and ipywidgets. See https://ipywidgets.readthedocs.io/en/stable/user_install.html\n",
      "  from .autonotebook import tqdm as notebook_tqdm\n"
     ]
    }
   ],
   "source": [
    "import dgl\n",
    "import torch\n",
    "import torch.nn as nn\n",
    "import torch.nn.functional as F"
   ]
  },
  {
   "cell_type": "code",
   "execution_count": 3,
   "id": "e4b9fa92",
   "metadata": {},
   "outputs": [
    {
     "name": "stdout",
     "output_type": "stream",
     "text": [
      "Downloading /home/parton15/.dgl/cora_v2.zip from https://data.dgl.ai/dataset/cora_v2.zip...\n",
      "Extracting file to /home/parton15/.dgl/cora_v2\n",
      "Finished data loading and preprocessing.\n",
      "  NumNodes: 2708\n",
      "  NumEdges: 10556\n",
      "  NumFeats: 1433\n",
      "  NumClasses: 7\n",
      "  NumTrainingSamples: 140\n",
      "  NumValidationSamples: 500\n",
      "  NumTestSamples: 1000\n",
      "Done saving data into cached files.\n",
      "Number of Categories: 7\n"
     ]
    }
   ],
   "source": [
    "# Load Cora Dataset\n",
    "\n",
    "import dgl.data\n",
    "dataset = dgl.data.CoraGraphDataset()\n",
    "print(\"Number of Categories:\", dataset.num_classes)"
   ]
  },
  {
   "cell_type": "code",
   "execution_count": 7,
   "id": "78c33241",
   "metadata": {},
   "outputs": [],
   "source": [
    "g = dataset[0]\n",
    "#print(g)"
   ]
  },
  {
   "cell_type": "code",
   "execution_count": 8,
   "id": "dc26785b",
   "metadata": {},
   "outputs": [
    {
     "name": "stdout",
     "output_type": "stream",
     "text": [
      "Node Features\n",
      "{'train_mask': tensor([ True,  True,  True,  ..., False, False, False]), 'val_mask': tensor([False, False, False,  ..., False, False, False]), 'test_mask': tensor([False, False, False,  ...,  True,  True,  True]), 'label': tensor([3, 4, 4,  ..., 3, 3, 3]), 'feat': tensor([[0., 0., 0.,  ..., 0., 0., 0.],\n",
      "        [0., 0., 0.,  ..., 0., 0., 0.],\n",
      "        [0., 0., 0.,  ..., 0., 0., 0.],\n",
      "        ...,\n",
      "        [0., 0., 0.,  ..., 0., 0., 0.],\n",
      "        [0., 0., 0.,  ..., 0., 0., 0.],\n",
      "        [0., 0., 0.,  ..., 0., 0., 0.]])}\n"
     ]
    }
   ],
   "source": [
    "print(\"Node Features\")\n",
    "print(g.ndata)"
   ]
  },
  {
   "cell_type": "code",
   "execution_count": 9,
   "id": "4a4acf64",
   "metadata": {},
   "outputs": [
    {
     "name": "stdout",
     "output_type": "stream",
     "text": [
      "Edge Features\n",
      "{}\n"
     ]
    }
   ],
   "source": [
    "print(\"Edge Features\")\n",
    "print(g.edata)"
   ]
  },
  {
   "cell_type": "code",
   "execution_count": 10,
   "id": "182ac002",
   "metadata": {},
   "outputs": [],
   "source": [
    "#### Defining Graph Convolutional Network (GCN)\n",
    "\n",
    "from dgl.nn import GraphConv\n",
    "\n",
    "class GCN(nn.Module):\n",
    "    def __init__(self, in_feats, h_feats, num_classes):\n",
    "        super(GCN, self).__init__()\n",
    "        self.conv1 = GraphConv(in_feats, h_feats)\n",
    "        self.conv2 = GraphConv(h_feats, num_classes)\n",
    "\n",
    "    def forward(self, g, in_feat):\n",
    "        h = self.conv1(g, in_feat)\n",
    "        h = F.relu(h)\n",
    "        h = self.conv2(g, h)\n",
    "        return h\n",
    "\n",
    "# Create the model with given dimensions\n",
    "model = GCN(g.ndata['feat'].shape[1], 16, dataset.num_classes)"
   ]
  },
  {
   "cell_type": "code",
   "execution_count": 11,
   "id": "7f33aa67",
   "metadata": {},
   "outputs": [
    {
     "name": "stdout",
     "output_type": "stream",
     "text": [
      "In epoch 0, loss: 1.946, val acc: 0.148 (best 0.148), test acc: 0.147 (best 0.147)\n",
      "In epoch 5, loss: 1.889, val acc: 0.574 (best 0.574), test acc: 0.571 (best 0.571)\n",
      "In epoch 10, loss: 1.806, val acc: 0.554 (best 0.592), test acc: 0.587 (best 0.599)\n",
      "In epoch 15, loss: 1.699, val acc: 0.600 (best 0.600), test acc: 0.621 (best 0.621)\n",
      "In epoch 20, loss: 1.570, val acc: 0.652 (best 0.652), test acc: 0.666 (best 0.666)\n",
      "In epoch 25, loss: 1.419, val acc: 0.666 (best 0.666), test acc: 0.678 (best 0.678)\n",
      "In epoch 30, loss: 1.253, val acc: 0.694 (best 0.694), test acc: 0.698 (best 0.698)\n",
      "In epoch 35, loss: 1.080, val acc: 0.714 (best 0.714), test acc: 0.713 (best 0.713)\n",
      "In epoch 40, loss: 0.910, val acc: 0.728 (best 0.728), test acc: 0.731 (best 0.729)\n",
      "In epoch 45, loss: 0.751, val acc: 0.748 (best 0.748), test acc: 0.750 (best 0.750)\n",
      "In epoch 50, loss: 0.611, val acc: 0.756 (best 0.756), test acc: 0.759 (best 0.759)\n",
      "In epoch 55, loss: 0.492, val acc: 0.766 (best 0.766), test acc: 0.761 (best 0.761)\n",
      "In epoch 60, loss: 0.395, val acc: 0.780 (best 0.780), test acc: 0.767 (best 0.767)\n",
      "In epoch 65, loss: 0.318, val acc: 0.780 (best 0.782), test acc: 0.769 (best 0.767)\n",
      "In epoch 70, loss: 0.257, val acc: 0.776 (best 0.782), test acc: 0.773 (best 0.767)\n",
      "In epoch 75, loss: 0.209, val acc: 0.776 (best 0.782), test acc: 0.770 (best 0.767)\n",
      "In epoch 80, loss: 0.172, val acc: 0.774 (best 0.782), test acc: 0.774 (best 0.767)\n",
      "In epoch 85, loss: 0.143, val acc: 0.784 (best 0.784), test acc: 0.775 (best 0.775)\n",
      "In epoch 90, loss: 0.121, val acc: 0.786 (best 0.786), test acc: 0.774 (best 0.773)\n",
      "In epoch 95, loss: 0.103, val acc: 0.786 (best 0.786), test acc: 0.775 (best 0.773)\n"
     ]
    }
   ],
   "source": [
    "### Training the GCN\n",
    "\n",
    "def train(g, model):\n",
    "    optimizer = torch.optim.Adam(model.parameters(), lr=0.01)\n",
    "    best_val_acc = 0\n",
    "    best_test_acc = 0\n",
    "\n",
    "    features = g.ndata['feat']\n",
    "    labels = g.ndata['label']\n",
    "    train_mask = g.ndata['train_mask']\n",
    "    val_mask = g.ndata['val_mask']\n",
    "    test_mask = g.ndata['test_mask']\n",
    "    for e in range(100):\n",
    "        # Forward\n",
    "        logits = model(g, features)\n",
    "\n",
    "        # Compute prediction\n",
    "        pred = logits.argmax(1)\n",
    "\n",
    "        # Compute loss\n",
    "        # Note that you should only compute the losses of the nodes in the training set.\n",
    "        loss = F.cross_entropy(logits[train_mask], labels[train_mask])\n",
    "\n",
    "        # Compute accuracy on training/validation/test\n",
    "        train_acc = (pred[train_mask] == labels[train_mask]).float().mean()\n",
    "        val_acc = (pred[val_mask] == labels[val_mask]).float().mean()\n",
    "        test_acc = (pred[test_mask] == labels[test_mask]).float().mean()\n",
    "\n",
    "        # Save the best validation accuracy and the corresponding test accuracy.\n",
    "        if best_val_acc < val_acc:\n",
    "            best_val_acc = val_acc\n",
    "            best_test_acc = test_acc\n",
    "\n",
    "        # Backward\n",
    "        optimizer.zero_grad()\n",
    "        loss.backward()\n",
    "        optimizer.step()\n",
    "\n",
    "        if e % 5 == 0:\n",
    "            print('In epoch {}, loss: {:.3f}, val acc: {:.3f} (best {:.3f}), test acc: {:.3f} (best {:.3f})'.format(\n",
    "                e, loss, val_acc, best_val_acc, test_acc, best_test_acc))\n",
    "model = GCN(g.ndata['feat'].shape[1], 16, dataset.num_classes)\n",
    "train(g, model)"
   ]
  },
  {
   "cell_type": "code",
   "execution_count": null,
   "id": "528ec0c5",
   "metadata": {},
   "outputs": [],
   "source": []
  }
 ],
 "metadata": {
  "kernelspec": {
   "display_name": "Python 3 (ipykernel)",
   "language": "python",
   "name": "python3"
  },
  "language_info": {
   "codemirror_mode": {
    "name": "ipython",
    "version": 3
   },
   "file_extension": ".py",
   "mimetype": "text/x-python",
   "name": "python",
   "nbconvert_exporter": "python",
   "pygments_lexer": "ipython3",
   "version": "3.8.13"
  }
 },
 "nbformat": 4,
 "nbformat_minor": 5
}
