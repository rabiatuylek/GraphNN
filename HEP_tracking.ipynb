{
 "cells": [
  {
   "cell_type": "code",
   "execution_count": 1,
   "metadata": {},
   "outputs": [],
   "source": [
    "import numpy as np\n",
    "import matplotlib.pyplot as plt\n",
    "import pandas as pd"
   ]
  },
  {
   "cell_type": "code",
   "execution_count": null,
   "metadata": {},
   "outputs": [],
   "source": [
    "'''\n",
    "hit :a pixel through which a particle has passed and left signal in a given event \n",
    "     (belirli bir olayda bir parçacığın içinden geçtiği ve sinyal bıraktığı bir piksel)\n",
    "\n",
    "\n",
    "event_id   = the event number: particles that have the same event id belong to the same event\n",
    "cluster_id = the truee cluster id corresponds to the particle that created the hits.\n",
    "layer      = the detector layer that the hit sits in, representing how far the hit is from origin. \n",
    "             the distances of the various layers were mentioned above in \"Detector\".\n",
    "iphi       = angle for what ??\n",
    "x = the x position of the hit, in cm\n",
    "y = the y position of the hit, in cm\n",
    "\n",
    "\n",
    "'''"
   ]
  },
  {
   "cell_type": "code",
   "execution_count": 2,
   "metadata": {},
   "outputs": [],
   "source": [
    "# Load Data\n",
    "file = \"data/train.csv\"\n",
    "df = pd.read_csv(file)"
   ]
  },
  {
   "cell_type": "code",
   "execution_count": 3,
   "metadata": {
    "scrolled": true
   },
   "outputs": [
    {
     "data": {
      "text/html": [
       "<div>\n",
       "<style scoped>\n",
       "    .dataframe tbody tr th:only-of-type {\n",
       "        vertical-align: middle;\n",
       "    }\n",
       "\n",
       "    .dataframe tbody tr th {\n",
       "        vertical-align: top;\n",
       "    }\n",
       "\n",
       "    .dataframe thead th {\n",
       "        text-align: right;\n",
       "    }\n",
       "</style>\n",
       "<table border=\"1\" class=\"dataframe\">\n",
       "  <thead>\n",
       "    <tr style=\"text-align: right;\">\n",
       "      <th></th>\n",
       "      <th>event_id</th>\n",
       "      <th>cluster_id</th>\n",
       "      <th>layer</th>\n",
       "      <th>iphi</th>\n",
       "      <th>x</th>\n",
       "      <th>y</th>\n",
       "    </tr>\n",
       "  </thead>\n",
       "  <tbody>\n",
       "    <tr>\n",
       "      <th>0</th>\n",
       "      <td>4</td>\n",
       "      <td>8</td>\n",
       "      <td>2</td>\n",
       "      <td>7830</td>\n",
       "      <td>46.974183</td>\n",
       "      <td>147.710616</td>\n",
       "    </tr>\n",
       "    <tr>\n",
       "      <th>1</th>\n",
       "      <td>4</td>\n",
       "      <td>4</td>\n",
       "      <td>5</td>\n",
       "      <td>42052</td>\n",
       "      <td>186.731559</td>\n",
       "      <td>-359.383256</td>\n",
       "    </tr>\n",
       "    <tr>\n",
       "      <th>2</th>\n",
       "      <td>4</td>\n",
       "      <td>9</td>\n",
       "      <td>3</td>\n",
       "      <td>46355</td>\n",
       "      <td>141.775135</td>\n",
       "      <td>-158.961666</td>\n",
       "    </tr>\n",
       "    <tr>\n",
       "      <th>3</th>\n",
       "      <td>4</td>\n",
       "      <td>10</td>\n",
       "      <td>1</td>\n",
       "      <td>18866</td>\n",
       "      <td>63.089465</td>\n",
       "      <td>-56.962438</td>\n",
       "    </tr>\n",
       "    <tr>\n",
       "      <th>4</th>\n",
       "      <td>4</td>\n",
       "      <td>0</td>\n",
       "      <td>3</td>\n",
       "      <td>22217</td>\n",
       "      <td>-183.348295</td>\n",
       "      <td>108.408499</td>\n",
       "    </tr>\n",
       "    <tr>\n",
       "      <th>...</th>\n",
       "      <td>...</td>\n",
       "      <td>...</td>\n",
       "      <td>...</td>\n",
       "      <td>...</td>\n",
       "      <td>...</td>\n",
       "      <td>...</td>\n",
       "    </tr>\n",
       "    <tr>\n",
       "      <th>208882</th>\n",
       "      <td>19989</td>\n",
       "      <td>1</td>\n",
       "      <td>3</td>\n",
       "      <td>11613</td>\n",
       "      <td>43.938296</td>\n",
       "      <td>208.418872</td>\n",
       "    </tr>\n",
       "    <tr>\n",
       "      <th>208883</th>\n",
       "      <td>19989</td>\n",
       "      <td>0</td>\n",
       "      <td>5</td>\n",
       "      <td>10865</td>\n",
       "      <td>92.111454</td>\n",
       "      <td>394.386207</td>\n",
       "    </tr>\n",
       "    <tr>\n",
       "      <th>208884</th>\n",
       "      <td>19989</td>\n",
       "      <td>2</td>\n",
       "      <td>4</td>\n",
       "      <td>55798</td>\n",
       "      <td>114.204060</td>\n",
       "      <td>-245.760926</td>\n",
       "    </tr>\n",
       "    <tr>\n",
       "      <th>208885</th>\n",
       "      <td>19989</td>\n",
       "      <td>0</td>\n",
       "      <td>1</td>\n",
       "      <td>4548</td>\n",
       "      <td>19.639512</td>\n",
       "      <td>82.699997</td>\n",
       "    </tr>\n",
       "    <tr>\n",
       "      <th>208886</th>\n",
       "      <td>19989</td>\n",
       "      <td>3</td>\n",
       "      <td>0</td>\n",
       "      <td>4862</td>\n",
       "      <td>-38.987814</td>\n",
       "      <td>0.974875</td>\n",
       "    </tr>\n",
       "  </tbody>\n",
       "</table>\n",
       "<p>208887 rows × 6 columns</p>\n",
       "</div>"
      ],
      "text/plain": [
       "        event_id  cluster_id  layer   iphi           x           y\n",
       "0              4           8      2   7830   46.974183  147.710616\n",
       "1              4           4      5  42052  186.731559 -359.383256\n",
       "2              4           9      3  46355  141.775135 -158.961666\n",
       "3              4          10      1  18866   63.089465  -56.962438\n",
       "4              4           0      3  22217 -183.348295  108.408499\n",
       "...          ...         ...    ...    ...         ...         ...\n",
       "208882     19989           1      3  11613   43.938296  208.418872\n",
       "208883     19989           0      5  10865   92.111454  394.386207\n",
       "208884     19989           2      4  55798  114.204060 -245.760926\n",
       "208885     19989           0      1   4548   19.639512   82.699997\n",
       "208886     19989           3      0   4862  -38.987814    0.974875\n",
       "\n",
       "[208887 rows x 6 columns]"
      ]
     },
     "execution_count": 3,
     "metadata": {},
     "output_type": "execute_result"
    }
   ],
   "source": [
    "df"
   ]
  },
  {
   "cell_type": "code",
   "execution_count": 4,
   "metadata": {},
   "outputs": [],
   "source": [
    "x = df.drop(['cluster_id'], axis=1).values\n",
    "y = df[['event_id','cluster_id']].values\n"
   ]
  },
  {
   "cell_type": "code",
   "execution_count": 21,
   "metadata": {},
   "outputs": [
    {
     "data": {
      "text/plain": [
       "array([[    4,     8],\n",
       "       [    4,     4],\n",
       "       [    4,     9],\n",
       "       ...,\n",
       "       [19989,     2],\n",
       "       [19989,     0],\n",
       "       [19989,     3]])"
      ]
     },
     "execution_count": 21,
     "metadata": {},
     "output_type": "execute_result"
    }
   ],
   "source": [
    "y"
   ]
  },
  {
   "cell_type": "code",
   "execution_count": 6,
   "metadata": {},
   "outputs": [
    {
     "data": {
      "text/plain": [
       "array([    4,     4,     4, ..., 19989, 19989, 19989])"
      ]
     },
     "execution_count": 6,
     "metadata": {},
     "output_type": "execute_result"
    }
   ],
   "source": [
    "y_events = y[:,0]\n",
    "y_events"
   ]
  },
  {
   "cell_type": "code",
   "execution_count": 7,
   "metadata": {},
   "outputs": [
    {
     "data": {
      "text/plain": [
       "array([    4,    39,    42, ..., 19983, 19984, 19989])"
      ]
     },
     "execution_count": 7,
     "metadata": {},
     "output_type": "execute_result"
    }
   ],
   "source": [
    "events = np.unique(y_events)  #np.unique method finds the unique elements of an array and returns these unique elements as a sorted array\n",
    "events"
   ]
  },
  {
   "cell_type": "code",
   "execution_count": 8,
   "metadata": {},
   "outputs": [
    {
     "data": {
      "text/plain": [
       "array([4.0000e+00, 4.0000e+00, 4.0000e+00, ..., 1.9989e+04, 1.9989e+04,\n",
       "       1.9989e+04])"
      ]
     },
     "execution_count": 8,
     "metadata": {},
     "output_type": "execute_result"
    }
   ],
   "source": [
    "x[:,0]"
   ]
  },
  {
   "cell_type": "code",
   "execution_count": 9,
   "metadata": {},
   "outputs": [
    {
     "data": {
      "text/plain": [
       "array([False, False, False, ..., False, False, False])"
      ]
     },
     "execution_count": 9,
     "metadata": {},
     "output_type": "execute_result"
    }
   ],
   "source": [
    "#Visualize the hits in a Single Event\n",
    "\n",
    "event_id  = 42\n",
    "event_indices = (x[:,0] ==event_id)\n",
    "event_indices"
   ]
  },
  {
   "cell_type": "code",
   "execution_count": 10,
   "metadata": {},
   "outputs": [
    {
     "data": {
      "text/plain": [
       "array([[ 8.00000000e+00,  1.15015000e+05,  8.61566558e+02,\n",
       "        -5.07644626e+02],\n",
       "       [ 5.00000000e+00,  3.24010000e+04, -2.64692619e+02,\n",
       "        -3.06533550e+02],\n",
       "       [ 5.00000000e+00,  4.67230000e+04,  3.52481267e+02,\n",
       "        -1.99454146e+02],\n",
       "       [ 4.00000000e+00,  4.33800000e+04, -1.76761993e+02,\n",
       "        -2.05417131e+02],\n",
       "       [ 8.00000000e+00,  1.04276000e+05,  4.80652656e+02,\n",
       "        -8.76911070e+02],\n",
       "       [ 7.00000000e+00,  7.95190000e+04,  3.68914143e+02,\n",
       "        -6.66743095e+02],\n",
       "       [ 2.00000000e+00,  3.44240000e+04,  1.15402435e+02,\n",
       "        -1.03475977e+02],\n",
       "       [ 6.00000000e+00,  6.25500000e+04,  4.23137801e+02,\n",
       "        -3.69862679e+02],\n",
       "       [ 3.00000000e+00,  3.41010000e+04, -1.38831502e+02,\n",
       "        -1.61538893e+02],\n",
       "       [ 5.00000000e+00,  1.85130000e+04, -2.65448681e+02,\n",
       "         3.05879057e+02],\n",
       "       [ 1.00000000e+00,  1.91570000e+04,  6.77278598e+01,\n",
       "        -5.13608509e+01],\n",
       "       [ 7.00000000e+00,  3.91930000e+04, -6.41577732e+02,\n",
       "         4.11122870e+02],\n",
       "       [ 1.00000000e+00,  5.69200000e+03, -8.76556889e+00,\n",
       "         8.45468202e+01],\n",
       "       [ 0.00000000e+00,  3.53400000e+03, -2.49610984e+01,\n",
       "         2.99657065e+01],\n",
       "       [ 0.00000000e+00,  8.15800000e+03,  1.92758559e+01,\n",
       "        -3.39034125e+01],\n",
       "       [ 0.00000000e+00,  3.53700000e+03, -2.50186772e+01,\n",
       "         2.99176502e+01],\n",
       "       [ 6.00000000e+00,  2.56630000e+04, -3.67333896e+02,\n",
       "         4.25334937e+02],\n",
       "       [ 8.00000000e+00,  1.12313000e+05,  7.85341694e+02,\n",
       "        -6.19062536e+02],\n",
       "       [ 8.00000000e+00,  1.11541000e+05,  7.60866881e+02,\n",
       "        -6.48907998e+02],\n",
       "       [ 0.00000000e+00,  6.24200000e+03, -2.54570254e+01,\n",
       "        -2.95455557e+01],\n",
       "       [ 2.00000000e+00,  1.03660000e+04, -1.56481949e+01,\n",
       "         1.54208087e+02],\n",
       "       [ 5.00000000e+00,  4.55690000e+04,  3.20590187e+02,\n",
       "        -2.47481175e+02],\n",
       "       [ 3.00000000e+00,  1.90530000e+04, -1.31510745e+02,\n",
       "         1.67552750e+02],\n",
       "       [ 1.00000000e+00,  7.64400000e+03, -5.32767793e+01,\n",
       "         6.62312977e+01],\n",
       "       [ 1.00000000e+00,  1.77780000e+04,  4.19684649e+01,\n",
       "        -7.39164931e+01],\n",
       "       [ 3.00000000e+00,  4.45340000e+04,  1.04832210e+02,\n",
       "        -1.85416309e+02],\n",
       "       [ 5.00000000e+00,  4.23120000e+04,  1.98169103e+02,\n",
       "        -3.53205332e+02],\n",
       "       [ 1.00000000e+00,  1.36100000e+04, -5.53723209e+01,\n",
       "        -6.44895812e+01],\n",
       "       [ 5.00000000e+00,  1.80560000e+04, -2.47777911e+02,\n",
       "         3.20360901e+02],\n",
       "       [ 2.00000000e+00,  3.49130000e+04,  1.23196427e+02,\n",
       "        -9.40618959e+01],\n",
       "       [ 4.00000000e+00,  2.42150000e+04, -1.66807046e+02,\n",
       "         2.13579984e+02],\n",
       "       [ 8.00000000e+00,  4.42660000e+04, -5.99197610e+02,\n",
       "         8.00601165e+02],\n",
       "       [ 4.00000000e+00,  2.47900000e+04, -1.77896270e+02,\n",
       "         2.04435606e+02],\n",
       "       [ 2.00000000e+00,  3.57760000e+04,  1.35055401e+02,\n",
       "        -7.60594424e+01],\n",
       "       [ 4.00000000e+00,  6.02310000e+04,  2.02511952e+02,\n",
       "        -1.80083062e+02],\n",
       "       [ 7.00000000e+00,  6.08860000e+04, -5.00876857e+02,\n",
       "        -5.74252883e+02],\n",
       "       [ 6.00000000e+00,  4.49370000e+04, -3.68241233e+02,\n",
       "        -4.24549637e+02],\n",
       "       [ 3.00000000e+00,  4.79650000e+04,  1.69111322e+02,\n",
       "        -1.29500428e+02],\n",
       "       [ 2.00000000e+00,  1.41730000e+04, -1.01639036e+02,\n",
       "         1.17023529e+02],\n",
       "       [ 3.00000000e+00,  4.73240000e+04,  1.58899250e+02,\n",
       "        -1.41845086e+02],\n",
       "       [ 8.00000000e+00,  4.55050000e+04, -6.47613590e+02,\n",
       "         7.61968922e+02],\n",
       "       [ 4.00000000e+00,  6.25550000e+04,  2.36188683e+02,\n",
       "        -1.32875528e+02],\n",
       "       [ 5.00000000e+00,  2.09010000e+04, -3.42872938e+02,\n",
       "         2.15553121e+02],\n",
       "       [ 6.00000000e+00,  5.86860000e+04,  2.73723486e+02,\n",
       "        -4.90835464e+02],\n",
       "       [ 1.00000000e+00,  1.88650000e+04,  6.30727090e+01,\n",
       "        -5.69809913e+01],\n",
       "       [ 3.00000000e+00,  4.91710000e+04,  1.85689445e+02,\n",
       "        -1.04347640e+02],\n",
       "       [ 7.00000000e+00,  8.77570000e+04,  6.59427495e+02,\n",
       "        -3.81836849e+02],\n",
       "       [ 1.00000000e+00,  1.96000000e+04,  7.38268343e+01,\n",
       "        -4.21259841e+01],\n",
       "       [ 7.00000000e+00,  3.38230000e+04, -4.60274816e+02,\n",
       "         6.07281725e+02],\n",
       "       [ 0.00000000e+00,  8.79800000e+03,  3.11982807e+01,\n",
       "        -2.34022923e+01],\n",
       "       [ 7.00000000e+00,  3.47420000e+04, -4.96036139e+02,\n",
       "         5.78439408e+02],\n",
       "       [ 2.00000000e+00,  3.24130000e+04,  7.64077165e+01,\n",
       "        -1.34858670e+02],\n",
       "       [ 8.00000000e+00,  5.13190000e+04, -8.38839365e+02,\n",
       "         5.44379022e+02],\n",
       "       [ 6.00000000e+00,  6.47900000e+04,  4.87984512e+02,\n",
       "        -2.78774310e+02],\n",
       "       [ 6.00000000e+00,  2.89600000e+04, -4.74623712e+02,\n",
       "         3.00959020e+02],\n",
       "       [ 0.00000000e+00,  4.04200000e+03, -3.32356471e+01,\n",
       "         2.04056797e+01],\n",
       "       [ 5.00000000e+00,  4.50390000e+04,  3.03722559e+02,\n",
       "        -2.67913433e+02],\n",
       "       [ 2.00000000e+00,  1.38870000e+04, -9.61346854e+01,\n",
       "         1.21585864e+02],\n",
       "       [ 4.00000000e+00,  5.66500000e+04,  1.33147796e+02,\n",
       "        -2.36035303e+02],\n",
       "       [ 1.00000000e+00,  8.80200000e+03, -7.23403597e+01,\n",
       "         4.46303972e+01],\n",
       "       [ 4.00000000e+00,  6.10120000e+04,  2.14949918e+02,\n",
       "        -1.65037973e+02],\n",
       "       [ 0.00000000e+00,  8.96300000e+03,  3.34945138e+01,\n",
       "        -1.99779265e+01],\n",
       "       [ 0.00000000e+00,  2.62700000e+03, -4.40298875e+00,\n",
       "         3.87506605e+01],\n",
       "       [ 3.00000000e+00,  1.94840000e+04, -1.39814823e+02,\n",
       "         1.60688566e+02],\n",
       "       [ 4.00000000e+00,  2.80070000e+04, -2.29903428e+02,\n",
       "         1.43476179e+02],\n",
       "       [ 0.00000000e+00,  8.64600000e+03,  2.87737467e+01,\n",
       "        -2.63262511e+01],\n",
       "       [ 2.00000000e+00,  2.48190000e+04, -1.00957840e+02,\n",
       "        -1.17611711e+02],\n",
       "       [ 8.00000000e+00,  7.98350000e+04, -6.59871940e+02,\n",
       "        -7.51378082e+02],\n",
       "       [ 6.00000000e+00,  6.32030000e+04,  4.43899130e+02,\n",
       "        -3.44670223e+02],\n",
       "       [ 6.00000000e+00,  2.50050000e+04, -3.41819729e+02,\n",
       "         4.46097829e+02],\n",
       "       [ 7.00000000e+00,  8.56420000e+04,  6.00266446e+02,\n",
       "        -4.69387041e+02],\n",
       "       [ 7.00000000e+00,  8.48940000e+04,  5.76514733e+02,\n",
       "        -4.98271776e+02],\n",
       "       [ 1.00000000e+00,  7.75600000e+03, -5.54292014e+01,\n",
       "         6.44406986e+01],\n",
       "       [ 2.00000000e+00,  1.60380000e+04, -1.31748032e+02,\n",
       "         8.16544918e+01]])"
      ]
     },
     "execution_count": 10,
     "metadata": {},
     "output_type": "execute_result"
    }
   ],
   "source": [
    "x_event = x[event_indices,1:]\n",
    "x_event"
   ]
  },
  {
   "cell_type": "code",
   "execution_count": 11,
   "metadata": {},
   "outputs": [],
   "source": [
    "pixel_x = x_event[:,2]\n",
    "pixel_y = x_event[:,3]\n",
    "tracks = y[event_indices][: ,1]\n"
   ]
  },
  {
   "cell_type": "code",
   "execution_count": 12,
   "metadata": {},
   "outputs": [
    {
     "data": {
      "image/png": "[encoded data removed]",
      "text/plain": [
       "<Figure size 640x480 with 1 Axes>"
      ]
     },
     "metadata": {},
     "output_type": "display_data"
    }
   ],
   "source": [
    "#Hists from All Tracks\n",
    "plt.scatter(pixel_x, pixel_y)\n",
    "plt.axis('equal')\n",
    "plt.show()"
   ]
  },
  {
   "cell_type": "code",
   "execution_count": 13,
   "metadata": {},
   "outputs": [
    {
     "data": {
      "text/plain": [
       "array([ 861.56655764, -264.69261907,  352.48126685, -176.76199282,\n",
       "        480.65265578,  368.91414286,  115.40243538,  423.13780129,\n",
       "       -138.83150193, -265.44868144,   67.72785979, -641.57773165,\n",
       "         -8.76556889,  -24.96109837,   19.2758559 ,  -25.01867719,\n",
       "       -367.33389585,  785.34169395,  760.86688094,  -25.45702536,\n",
       "        -15.64819489,  320.59018666, -131.51074518,  -53.27677926,\n",
       "         41.96846487,  104.83220975,  198.16910344,  -55.37232086,\n",
       "       -247.77791096,  123.19642745, -166.80704581, -599.19760958,\n",
       "       -177.89626999,  135.05540059,  202.51195189, -500.87685729,\n",
       "       -368.24123346,  169.11132197, -101.63903616,  158.8992496 ,\n",
       "       -647.61358999,  236.18868315, -342.87293849,  273.72348623,\n",
       "         63.07270905,  185.68944508,  659.42749477,   73.82683428,\n",
       "       -460.27481618,   31.19828065, -496.03613924,   76.40771653,\n",
       "       -838.83936535,  487.98451205, -474.62371203,  -33.23564706,\n",
       "        303.72255873,  -96.13468537,  133.14779636,  -72.34035973,\n",
       "        214.94991826,   33.49451378,   -4.40298875, -139.81482342,\n",
       "       -229.90342775,   28.77374673, -100.95783955, -659.87194015,\n",
       "        443.89913002, -341.81972906,  600.26644573,  576.51473321,\n",
       "        -55.42920142, -131.74803213])"
      ]
     },
     "execution_count": 13,
     "metadata": {},
     "output_type": "execute_result"
    }
   ],
   "source": [
    "pixel_x"
   ]
  },
  {
   "cell_type": "code",
   "execution_count": 14,
   "metadata": {},
   "outputs": [
    {
     "data": {
      "text/plain": [
       "array([-507.64462645, -306.53355022, -199.45414641, -205.41713145,\n",
       "       -876.91106988, -666.74309535, -103.47597744, -369.86267873,\n",
       "       -161.53889337,  305.87905702,  -51.36085093,  411.12287001,\n",
       "         84.54682018,   29.96570653,  -33.9034125 ,   29.91765017,\n",
       "        425.33493738, -619.06253621, -648.90799771,  -29.54555567,\n",
       "        154.20808668, -247.48117548,  167.55274961,   66.23129767,\n",
       "        -73.91649313, -185.41630942, -353.20533184,  -64.48958119,\n",
       "        320.36090092,  -94.06189592,  213.57998377,  800.60116455,\n",
       "        204.4356063 ,  -76.05944236, -180.08306234, -574.25288317,\n",
       "       -424.54963665, -129.50042773,  117.02352895, -141.84508619,\n",
       "        761.96892198, -132.87552805,  215.55312119, -490.83546437,\n",
       "        -56.98099133, -104.34764007, -381.83684885,  -42.12598414,\n",
       "        607.28172506,  -23.40229229,  578.43940786, -134.85866993,\n",
       "        544.37902158, -278.77431016,  300.95902043,   20.40567971,\n",
       "       -267.91343251,  121.58586377, -236.03530313,   44.6303972 ,\n",
       "       -165.03797333,  -19.97792649,   38.75066051,  160.68856572,\n",
       "        143.47617889,  -26.32625115, -117.61171129, -751.37808233,\n",
       "       -344.67022262,  446.09782876, -469.38704087, -498.27177563,\n",
       "         64.44069855,   81.65449179])"
      ]
     },
     "execution_count": 14,
     "metadata": {},
     "output_type": "execute_result"
    }
   ],
   "source": [
    "pixel_y"
   ]
  },
  {
   "cell_type": "code",
   "execution_count": 15,
   "metadata": {},
   "outputs": [
    {
     "data": {
      "text/plain": [
       "array([3, 2, 3, 2, 7, 7, 8, 8, 2, 0, 5, 1, 6, 0, 7, 4, 0, 5, 8, 2, 6, 5,\n",
       "       4, 4, 7, 7, 7, 2, 4, 5, 4, 4, 0, 3, 8, 2, 2, 5, 0, 8, 0, 3, 1, 7,\n",
       "       8, 3, 3, 3, 4, 5, 0, 7, 1, 3, 1, 1, 8, 4, 7, 1, 5, 3, 6, 0, 1, 8,\n",
       "       2, 2, 5, 4, 5, 8, 0, 1])"
      ]
     },
     "execution_count": 15,
     "metadata": {},
     "output_type": "execute_result"
    }
   ],
   "source": [
    "tracks"
   ]
  },
  {
   "cell_type": "code",
   "execution_count": 16,
   "metadata": {},
   "outputs": [
    {
     "data": {
      "image/png": "[encoded data removed]",
      "text/plain": [
       "<Figure size 640x480 with 1 Axes>"
      ]
     },
     "metadata": {},
     "output_type": "display_data"
    }
   ],
   "source": [
    "#Hists from a Single Track\n",
    "\n",
    "track_id = 5\n",
    "track_hits = (tracks==track_id)\n",
    "plt.scatter(pixel_x[track_hits], pixel_y[track_hits])   #to draw\n",
    "plt.axis('equal')\n",
    "plt.show()"
   ]
  },
  {
   "cell_type": "code",
   "execution_count": 17,
   "metadata": {},
   "outputs": [
    {
     "data": {
      "text/plain": [
       "array([0, 1, 2, 3, 4, 5, 6, 7, 8])"
      ]
     },
     "execution_count": 17,
     "metadata": {},
     "output_type": "execute_result"
    }
   ],
   "source": [
    "track_unique_number = np.unique(tracks)\n",
    "track_unique_number"
   ]
  },
  {
   "cell_type": "code",
   "execution_count": 18,
   "metadata": {},
   "outputs": [
    {
     "data": {
      "image/png": "[encoded data removed]",
      "text/plain": [
       "<Figure size 640x480 with 1 Axes>"
      ]
     },
     "metadata": {},
     "output_type": "display_data"
    }
   ],
   "source": [
    "# algorithm wants to assign specific ids to all hits in a way that corresponds to the particle\n",
    "\n",
    "cmap = ['k','b','y','g','r','k','b']\n",
    "\n",
    "for track_id in np.unique(tracks):\n",
    "    track_hits = (tracks==track_id)\n",
    "    plt.scatter(pixel_x[track_hits], pixel_y[track_hits], color =cmap[int(track_id)%7])\n",
    "    \n",
    "plt.axis('equal')\n",
    "plt.show()\n"
   ]
  },
  {
   "cell_type": "code",
   "execution_count": null,
   "metadata": {},
   "outputs": [],
   "source": []
  }
 ],
 "metadata": {
  "anaconda-cloud": {},
  "kernelspec": {
   "display_name": "Python 3 (ipykernel)",
   "language": "python",
   "name": "python3"
  },
  "language_info": {
   "codemirror_mode": {
    "name": "ipython",
    "version": 3
   },
   "file_extension": ".py",
   "mimetype": "text/x-python",
   "name": "python",
   "nbconvert_exporter": "python",
   "pygments_lexer": "ipython3",
   "version": "3.8.13"
  }
 },
 "nbformat": 4,
 "nbformat_minor": 4
}
